{
 "cells": [
  {
   "cell_type": "markdown",
   "metadata": {},
   "source": [
    "# Keyword Extraction Menggunakan Text Rank\n",
    "----------------------------------------------\n",
    "Tugas Akhir Mata Kuliah Pemrosesan Bahasa Alami (NLP)\n",
    "\n",
    "Nama : Hapsari Prabandhari\n",
    "\n",
    "NIM  : 20/456366/TK/50496"
   ]
  },
  {
   "cell_type": "markdown",
   "metadata": {},
   "source": [
    " "
   ]
  },
  {
   "cell_type": "markdown",
   "metadata": {},
   "source": [
    "## Tentang Text Rank Model"
   ]
  },
  {
   "cell_type": "markdown",
   "metadata": {},
   "source": [
    "Text Rank merupakan model **Unsupervised Learning** yang biasa digunakan dalam pemrosesan teks, khususnya pada Keyword Extraction dan Text Summarization. Text Rank Model ini mengimplementasikan **Graph-based Ranking Algoritma**."
   ]
  },
  {
   "cell_type": "markdown",
   "metadata": {},
   "source": [
    "Graph-based Ranking Algoritma sendiri merupakan cara untuk **memutuskan pentingnya verteks dalam graph berdasarkan informasi yang diambil dari struktur graph**. Graph-based Ranking Algoritma ini memiliki prinsip dasar seperti \"voting\". Setiap verteks pada graph akan saling terhubung satu sama lain, hubungan antar verteks ini akan menambah \"vote\" untuk verteks tersebut. Semakin banyak hubungan yang terjadi pada suatu verteks maka jumlah \"vote\"-nya akan semakin banyak, bobot nilai dari verteks tersebut juga akan bertambah bertambah, sehingga semakin tinggi pula tingkat kepentingan verteks tersebut di dalam teks."
   ]
  },
  {
   "cell_type": "markdown",
   "metadata": {},
   "source": [
    "Secara umum, kita misalkan graph G = (V,E)\n",
    "\n",
    "Dimana V adalah himpunan verteks dan E merupakan himpunan edge dimana edge sendiri adalah subset dari V x V.\n",
    "\n",
    "Maka score yang dimiliki verteks Vi didefinisikan sebagai berikut:"
   ]
  },
  {
   "attachments": {
    "image-3.png": {
     "image/png": "[encoded data removed]"
    }
   },
   "cell_type": "markdown",
   "metadata": {},
   "source": [
    "![image-3.png](attachment:image-3.png)"
   ]
  },
  {
   "cell_type": "markdown",
   "metadata": {},
   "source": [
    "Keterangan:\n",
    "\n",
    "    S (Vi)  : Score yang dimiliki verteks Vi\n",
    "    d       : Damping factor (bernilai antara 0-1, tapi biasanya ditentukan sebesar 0.85)\n",
    "    In(Vi)  : Himpunan verteks yang mengarah ke Vi (processor)\n",
    "    Out(Vj) : Himpunan verteks yang ditunjuk oleh Vi (successor)\n",
    "    S (Vj)  : Score yang dimiliki verteks Vj"
   ]
  },
  {
   "cell_type": "markdown",
   "metadata": {},
   "source": [
    " "
   ]
  },
  {
   "cell_type": "markdown",
   "metadata": {},
   "source": [
    "## Implementasi pada Program"
   ]
  },
  {
   "cell_type": "markdown",
   "metadata": {},
   "source": [
    "### Input Text"
   ]
  },
  {
   "cell_type": "markdown",
   "metadata": {},
   "source": [
    "Input berupa teks dengan tipe data string"
   ]
  },
  {
   "cell_type": "code",
   "execution_count": 1,
   "metadata": {},
   "outputs": [
    {
     "name": "stdout",
     "output_type": "stream",
     "text": [
      "Input text:\n",
      "Natural language processing, or NLP, is a type of artificial intelligence that deals with analyzing, understanding, and generating natural human languages so that computers can process written and spoken human language without using computer-driven language. Natural language processing, sometimes also called “computational linguistics,” uses both semantics and syntax to help computers understand how humans talk or write and how to derive meaning from what they say. This field combines the power of artificial intelligence and computer programming into an understanding so powerful that programs can even translate one language into another reasonably accurately. This field also includes voice recognition, the ability of a computer to understand what you say well enough to respond appropriately.\n"
     ]
    }
   ],
   "source": [
    "input_text = input('Input text:\\n')"
   ]
  },
  {
   "cell_type": "markdown",
   "metadata": {},
   "source": [
    "### Clean and Tokenize Text"
   ]
  },
  {
   "cell_type": "markdown",
   "metadata": {},
   "source": [
    "Teks inputan akan dibersihkan dari non-printable karakter dan akan diubah ke dalam bentuk lower case.\n",
    "Teks yang sudah dibersihkan akan ditokenisasi dengan bantuan fungsi yang ada pada library NLTK."
   ]
  },
  {
   "cell_type": "code",
   "execution_count": 2,
   "metadata": {},
   "outputs": [
    {
     "name": "stdout",
     "output_type": "stream",
     "text": [
      "Tokenized Text: \n",
      "\n",
      "['natural', 'language', 'processing', ',', 'or', 'nlp', ',', 'is', 'a', 'type', 'of', 'artificial', 'intelligence', 'that', 'deals', 'with', 'analyzing', ',', 'understanding', ',', 'and', 'generating', 'natural', 'human', 'languages', 'so', 'that', 'computers', 'can', 'process', 'written', 'and', 'spoken', 'human', 'language', 'without', 'using', 'computer-driven', 'language', '.', 'natural', 'language', 'processing', ',', 'sometimes', 'also', 'called', 'computational', 'linguistics', ',', 'uses', 'both', 'semantics', 'and', 'syntax', 'to', 'help', 'computers', 'understand', 'how', 'humans', 'talk', 'or', 'write', 'and', 'how', 'to', 'derive', 'meaning', 'from', 'what', 'they', 'say', '.', 'this', 'field', 'combines', 'the', 'power', 'of', 'artificial', 'intelligence', 'and', 'computer', 'programming', 'into', 'an', 'understanding', 'so', 'powerful', 'that', 'programs', 'can', 'even', 'translate', 'one', 'language', 'into', 'another', 'reasonably', 'accurately', '.', 'this', 'field', 'also', 'includes', 'voice', 'recognition', ',', 'the', 'ability', 'of', 'a', 'computer', 'to', 'understand', 'what', 'you', 'say', 'well', 'enough', 'to', 'respond', 'appropriately', '.']\n"
     ]
    }
   ],
   "source": [
    "import string\n",
    "import nltk\n",
    "from nltk import word_tokenize\n",
    "\n",
    "def clean(text):\n",
    "    text = text.lower()\n",
    "    printable = set(string.printable)\n",
    "    text = filter(lambda x: x in printable, text)\n",
    "    text = \"\".join(list(text))\n",
    "    return text\n",
    "\n",
    "cleaned_text = clean(input_text)\n",
    "text = word_tokenize(cleaned_text)\n",
    "\n",
    "print (\"Tokenized Text: \\n\")\n",
    "print (text)"
   ]
  },
  {
   "cell_type": "markdown",
   "metadata": {},
   "source": [
    "### Normalize the Tokenized Text with Lemmatization"
   ]
  },
  {
   "cell_type": "markdown",
   "metadata": {},
   "source": [
    "##### Part of Speech (POS) Tagging\n",
    "Memberi tanda (tag) pada teks yang sudah ditokenisasi dengan menggunakan Part of Speech (POS) tagging.\n",
    "Pada tahap ini kita juga menggunakan fungsi yang ada pada library NLTK."
   ]
  },
  {
   "cell_type": "code",
   "execution_count": 3,
   "metadata": {},
   "outputs": [
    {
     "name": "stderr",
     "output_type": "stream",
     "text": [
      "[nltk_data] Downloading package averaged_perceptron_tagger to\n",
      "[nltk_data]     C:\\Users\\A S U S\\AppData\\Roaming\\nltk_data...\n",
      "[nltk_data]   Package averaged_perceptron_tagger is already up-to-\n",
      "[nltk_data]       date!\n"
     ]
    },
    {
     "name": "stdout",
     "output_type": "stream",
     "text": [
      "Tokenized Text with POS tags: \n",
      "\n",
      "[('natural', 'JJ'), ('language', 'NN'), ('processing', 'NN'), (',', ','), ('or', 'CC'), ('nlp', 'NN'), (',', ','), ('is', 'VBZ'), ('a', 'DT'), ('type', 'NN'), ('of', 'IN'), ('artificial', 'JJ'), ('intelligence', 'NN'), ('that', 'IN'), ('deals', 'NNS'), ('with', 'IN'), ('analyzing', 'VBG'), (',', ','), ('understanding', 'NN'), (',', ','), ('and', 'CC'), ('generating', 'VBG'), ('natural', 'JJ'), ('human', 'JJ'), ('languages', 'NNS'), ('so', 'RB'), ('that', 'IN'), ('computers', 'NNS'), ('can', 'MD'), ('process', 'VB'), ('written', 'VBN'), ('and', 'CC'), ('spoken', 'VBN'), ('human', 'JJ'), ('language', 'NN'), ('without', 'IN'), ('using', 'VBG'), ('computer-driven', 'JJ'), ('language', 'NN'), ('.', '.'), ('natural', 'JJ'), ('language', 'NN'), ('processing', 'NN'), (',', ','), ('sometimes', 'RB'), ('also', 'RB'), ('called', 'VBD'), ('computational', 'JJ'), ('linguistics', 'NNS'), (',', ','), ('uses', 'VBZ'), ('both', 'DT'), ('semantics', 'NNS'), ('and', 'CC'), ('syntax', 'NN'), ('to', 'TO'), ('help', 'VB'), ('computers', 'NNS'), ('understand', 'VB'), ('how', 'WRB'), ('humans', 'JJ'), ('talk', 'NN'), ('or', 'CC'), ('write', 'NN'), ('and', 'CC'), ('how', 'WRB'), ('to', 'TO'), ('derive', 'VB'), ('meaning', 'NN'), ('from', 'IN'), ('what', 'WP'), ('they', 'PRP'), ('say', 'VBP'), ('.', '.'), ('this', 'DT'), ('field', 'NN'), ('combines', 'VBZ'), ('the', 'DT'), ('power', 'NN'), ('of', 'IN'), ('artificial', 'JJ'), ('intelligence', 'NN'), ('and', 'CC'), ('computer', 'NN'), ('programming', 'VBG'), ('into', 'IN'), ('an', 'DT'), ('understanding', 'NN'), ('so', 'RB'), ('powerful', 'JJ'), ('that', 'IN'), ('programs', 'NNS'), ('can', 'MD'), ('even', 'RB'), ('translate', 'VB'), ('one', 'CD'), ('language', 'NN'), ('into', 'IN'), ('another', 'DT'), ('reasonably', 'RB'), ('accurately', 'RB'), ('.', '.'), ('this', 'DT'), ('field', 'NN'), ('also', 'RB'), ('includes', 'VBZ'), ('voice', 'NN'), ('recognition', 'NN'), (',', ','), ('the', 'DT'), ('ability', 'NN'), ('of', 'IN'), ('a', 'DT'), ('computer', 'NN'), ('to', 'TO'), ('understand', 'VB'), ('what', 'WP'), ('you', 'PRP'), ('say', 'VBP'), ('well', 'RB'), ('enough', 'RB'), ('to', 'TO'), ('respond', 'VB'), ('appropriately', 'RB'), ('.', '.')]\n"
     ]
    }
   ],
   "source": [
    "nltk.download('averaged_perceptron_tagger')\n",
    "pos_tag = nltk.pos_tag(text)\n",
    "\n",
    "print (\"Tokenized Text with POS tags: \\n\")\n",
    "print (pos_tag)"
   ]
  },
  {
   "cell_type": "markdown",
   "metadata": {},
   "source": [
    "##### Lemmatization\n",
    "Lemmatization dilakukan untuk menormalisasi tokenized text, terutama pada kata benda (noun) dan kata sifat (adjectives).\n",
    "Pada tahap ini kita juga menggunakan fungsi yang ada pada library NLTK."
   ]
  },
  {
   "cell_type": "code",
   "execution_count": 4,
   "metadata": {},
   "outputs": [
    {
     "name": "stderr",
     "output_type": "stream",
     "text": [
      "[nltk_data] Downloading package wordnet to C:\\Users\\A S U\n",
      "[nltk_data]     S\\AppData\\Roaming\\nltk_data...\n",
      "[nltk_data]   Package wordnet is already up-to-date!\n"
     ]
    },
    {
     "name": "stdout",
     "output_type": "stream",
     "text": [
      "Text tokens after lemmatization of adjectives and nouns: \n",
      "\n",
      "['natural', 'language', 'processing', ',', 'or', 'nlp', ',', 'is', 'a', 'type', 'of', 'artificial', 'intelligence', 'that', 'deal', 'with', 'analyzing', ',', 'understanding', ',', 'and', 'generating', 'natural', 'human', 'language', 'so', 'that', 'computer', 'can', 'process', 'written', 'and', 'spoken', 'human', 'language', 'without', 'using', 'computer-driven', 'language', '.', 'natural', 'language', 'processing', ',', 'sometimes', 'also', 'called', 'computational', 'linguistics', ',', 'us', 'both', 'semantics', 'and', 'syntax', 'to', 'help', 'computer', 'understand', 'how', 'humans', 'talk', 'or', 'write', 'and', 'how', 'to', 'derive', 'meaning', 'from', 'what', 'they', 'say', '.', 'this', 'field', 'combine', 'the', 'power', 'of', 'artificial', 'intelligence', 'and', 'computer', 'programming', 'into', 'an', 'understanding', 'so', 'powerful', 'that', 'program', 'can', 'even', 'translate', 'one', 'language', 'into', 'another', 'reasonably', 'accurately', '.', 'this', 'field', 'also', 'includes', 'voice', 'recognition', ',', 'the', 'ability', 'of', 'a', 'computer', 'to', 'understand', 'what', 'you', 'say', 'well', 'enough', 'to', 'respond', 'appropriately', '.']\n"
     ]
    }
   ],
   "source": [
    "nltk.download('wordnet')\n",
    "from nltk.stem import WordNetLemmatizer\n",
    "\n",
    "wordnet_lemmatizer = WordNetLemmatizer()\n",
    "adjective_tags = ['JJ','JJR','JJS']\n",
    "lemmatized_text = []\n",
    "\n",
    "for word in pos_tag:\n",
    "    if word[1] in adjective_tags:\n",
    "        lemmatized_text.append(str(wordnet_lemmatizer.lemmatize(word[0],pos=\"a\")))\n",
    "    else:\n",
    "        lemmatized_text.append(str(wordnet_lemmatizer.lemmatize(word[0]))) #default POS (noun)\n",
    "        \n",
    "print (\"Text tokens after lemmatization of adjectives and nouns: \\n\")\n",
    "print (lemmatized_text)"
   ]
  },
  {
   "cell_type": "markdown",
   "metadata": {},
   "source": [
    "##### Part of Speech (POS) Tagging After Lemmatization\n",
    "Memberi tanda (tag) pada teks lagi untuk mempermudah tahap selanjutnya (filtering)"
   ]
  },
  {
   "cell_type": "code",
   "execution_count": 5,
   "metadata": {},
   "outputs": [
    {
     "name": "stdout",
     "output_type": "stream",
     "text": [
      "Lemmatized text with POS tags: \n",
      "\n",
      "[('natural', 'JJ'), ('language', 'NN'), ('processing', 'NN'), (',', ','), ('or', 'CC'), ('nlp', 'NN'), (',', ','), ('is', 'VBZ'), ('a', 'DT'), ('type', 'NN'), ('of', 'IN'), ('artificial', 'JJ'), ('intelligence', 'NN'), ('that', 'WDT'), ('deal', 'NN'), ('with', 'IN'), ('analyzing', 'VBG'), (',', ','), ('understanding', 'NN'), (',', ','), ('and', 'CC'), ('generating', 'VBG'), ('natural', 'JJ'), ('human', 'JJ'), ('language', 'NN'), ('so', 'RB'), ('that', 'IN'), ('computer', 'NN'), ('can', 'MD'), ('process', 'VB'), ('written', 'VBN'), ('and', 'CC'), ('spoken', 'VBN'), ('human', 'JJ'), ('language', 'NN'), ('without', 'IN'), ('using', 'VBG'), ('computer-driven', 'JJ'), ('language', 'NN'), ('.', '.'), ('natural', 'JJ'), ('language', 'NN'), ('processing', 'NN'), (',', ','), ('sometimes', 'RB'), ('also', 'RB'), ('called', 'VBD'), ('computational', 'JJ'), ('linguistics', 'NNS'), (',', ','), ('us', 'PRP'), ('both', 'DT'), ('semantics', 'NNS'), ('and', 'CC'), ('syntax', 'NN'), ('to', 'TO'), ('help', 'VB'), ('computer', 'NN'), ('understand', 'VB'), ('how', 'WRB'), ('humans', 'JJ'), ('talk', 'NN'), ('or', 'CC'), ('write', 'NN'), ('and', 'CC'), ('how', 'WRB'), ('to', 'TO'), ('derive', 'VB'), ('meaning', 'NN'), ('from', 'IN'), ('what', 'WP'), ('they', 'PRP'), ('say', 'VBP'), ('.', '.'), ('this', 'DT'), ('field', 'NN'), ('combine', 'VBZ'), ('the', 'DT'), ('power', 'NN'), ('of', 'IN'), ('artificial', 'JJ'), ('intelligence', 'NN'), ('and', 'CC'), ('computer', 'NN'), ('programming', 'VBG'), ('into', 'IN'), ('an', 'DT'), ('understanding', 'NN'), ('so', 'RB'), ('powerful', 'JJ'), ('that', 'IN'), ('program', 'NN'), ('can', 'MD'), ('even', 'RB'), ('translate', 'VB'), ('one', 'CD'), ('language', 'NN'), ('into', 'IN'), ('another', 'DT'), ('reasonably', 'RB'), ('accurately', 'RB'), ('.', '.'), ('this', 'DT'), ('field', 'NN'), ('also', 'RB'), ('includes', 'VBZ'), ('voice', 'NN'), ('recognition', 'NN'), (',', ','), ('the', 'DT'), ('ability', 'NN'), ('of', 'IN'), ('a', 'DT'), ('computer', 'NN'), ('to', 'TO'), ('understand', 'VB'), ('what', 'WP'), ('you', 'PRP'), ('say', 'VBP'), ('well', 'RB'), ('enough', 'RB'), ('to', 'TO'), ('respond', 'VB'), ('appropriately', 'RB'), ('.', '.')]\n"
     ]
    }
   ],
   "source": [
    "pos_tag = nltk.pos_tag(lemmatized_text)\n",
    "\n",
    "print (\"Lemmatized text with POS tags: \\n\")\n",
    "print (pos_tag)"
   ]
  },
  {
   "cell_type": "markdown",
   "metadata": {},
   "source": [
    "### Text Filtering"
   ]
  },
  {
   "cell_type": "markdown",
   "metadata": {},
   "source": [
    "##### Define The Stopword\n",
    "Stopword yang digunakan terdiri dari tiga jenis, yaitu:\n",
    "\n",
    "    - Stopword collection dari library NLTK\n",
    "    - Punctuation collection (tanda baca)\n",
    "    - Kata selain noun, adjective, dan gerund (karena keyword biasanya hanya terdiri dari kata itu saja)"
   ]
  },
  {
   "cell_type": "code",
   "execution_count": 6,
   "metadata": {},
   "outputs": [
    {
     "name": "stdout",
     "output_type": "stream",
     "text": [
      "List of stopwords: \n",
      "\n",
      "[',', 'or', ',', 'is', 'a', 'of', 'that', 'with', ',', ',', 'and', 'so', 'that', 'can', 'process', 'written', 'and', 'spoken', 'without', '.', ',', 'sometimes', 'also', 'called', ',', 'us', 'both', 'and', 'to', 'help', 'understand', 'how', 'or', 'and', 'how', 'to', 'derive', 'from', 'what', 'they', 'say', '.', 'this', 'combine', 'the', 'of', 'and', 'into', 'an', 'so', 'that', 'can', 'even', 'translate', 'one', 'into', 'another', 'reasonably', 'accurately', '.', 'this', 'also', 'includes', ',', 'the', 'of', 'a', 'to', 'understand', 'what', 'you', 'say', 'well', 'enough', 'to', 'respond', 'appropriately', '.', 'an', \"wasn't\", 'nor', 'very', \"hasn't\", 'but', 'being', 'ain', 'aren', \"mightn't\", 'your', 'has', 'few', 'couldn', 'be', 'over', 'hasn', 'what', \"shan't\", \"couldn't\", 'other', 'at', 'below', 'no', 'his', 'hers', 're', 've', 't', 'them', \"that'll\", 'should', 'who', \"don't\", \"won't\", 'o', 'of', 'him', 'against', 'why', \"you'd\", 'for', 'than', 'to', 'mightn', \"should've\", 'with', 's', 'their', 'between', 'some', 'y', 'from', 'they', 'this', \"shouldn't\", 'above', 'weren', \"needn't\", 'the', 'once', \"wouldn't\", \"didn't\", 'm', 'ours', 'i', 'into', 'did', 'more', 'won', 'a', 'these', 'there', 'have', 'had', 'those', 'own', 'up', 'yourselves', 'most', 'myself', 'ma', 'does', 'he', 'ourselves', 'all', 'my', 'you', 'any', 'until', 'just', 'while', 'after', \"she's\", \"you'll\", 'been', 'wouldn', 'me', 'through', 'when', 'each', 'yourself', 'if', 'are', \"mustn't\", 'having', 'before', 'herself', 'where', 'in', 'haven', 'himself', 'same', 'whom', 'she', 'do', 'itself', 'by', 'out', \"you're\", 'it', 'again', 'themselves', 'isn', 'because', 'was', 'her', 'that', 'on', 'is', 'how', 'both', 'so', 'off', \"haven't\", 'wasn', 'and', 'which', 'then', 'under', 'about', 'mustn', 'needn', \"isn't\", 'too', 'were', 'can', 'our', 'such', 'doesn', 'during', 'we', 'yours', 'd', \"hadn't\", 'doing', 'further', 'am', 'shan', 'don', 'now', 'as', 'not', 'its', 'here', 'down', \"you've\", 'shouldn', \"weren't\", 'only', 'will', 'didn', \"aren't\", 'theirs', \"doesn't\", 'hadn', \"it's\", 'll', 'or', '!', '\"', '#', '$', '%', '&', \"'\", '(', ')', '*', '+', ',', '-', '.', '/', ':', ';', '<', '=', '>', '?', '@', '[', '\\\\', ']', '^', '_', '`', '{', '|', '}', '~']\n"
     ]
    },
    {
     "name": "stderr",
     "output_type": "stream",
     "text": [
      "[nltk_data] Downloading package stopwords to C:\\Users\\A S U\n",
      "[nltk_data]     S\\AppData\\Roaming\\nltk_data...\n",
      "[nltk_data]   Package stopwords is already up-to-date!\n"
     ]
    }
   ],
   "source": [
    "nltk.download('stopwords')\n",
    "from nltk.corpus import stopwords\n",
    "\n",
    "stopwords_file = list(set(stopwords.words(\"english\")))\n",
    "punctuations = list(str(string.punctuation))\n",
    "stopwords = []\n",
    "\n",
    "wanted_pos = ['NN','NNS','NNP','NNPS','JJ','JJR','JJS','VBG','FW'] \n",
    "for word in pos_tag:\n",
    "    if word[1] not in wanted_pos:\n",
    "        stopwords.append(word[0])\n",
    "\n",
    "stopwords = stopwords + stopwords_file + punctuations\n",
    "\n",
    "print (\"List of stopwords: \\n\")\n",
    "print(stopwords)"
   ]
  },
  {
   "cell_type": "markdown",
   "metadata": {},
   "source": [
    "##### Removing Stopword from the Text\n",
    "Menghapus berbagai stopword yang sudah didefinisikan sebelumnya dari teks"
   ]
  },
  {
   "cell_type": "code",
   "execution_count": 7,
   "metadata": {},
   "outputs": [
    {
     "name": "stdout",
     "output_type": "stream",
     "text": [
      "['natural', 'language', 'processing', 'nlp', 'type', 'artificial', 'intelligence', 'deal', 'analyzing', 'understanding', 'generating', 'natural', 'human', 'language', 'computer', 'human', 'language', 'using', 'computer-driven', 'language', 'natural', 'language', 'processing', 'computational', 'linguistics', 'semantics', 'syntax', 'computer', 'humans', 'talk', 'write', 'meaning', 'field', 'power', 'artificial', 'intelligence', 'computer', 'programming', 'understanding', 'powerful', 'program', 'language', 'field', 'voice', 'recognition', 'ability', 'computer']\n"
     ]
    }
   ],
   "source": [
    "processed_text = []\n",
    "\n",
    "for word in lemmatized_text:\n",
    "    if word not in stopwords:\n",
    "        processed_text.append(word)\n",
    "        \n",
    "print (processed_text)"
   ]
  },
  {
   "cell_type": "markdown",
   "metadata": {},
   "source": [
    "##### Select Only Unique Words\n",
    "Men-generate vocabulary dari text berdasarkan kata yang unik saja"
   ]
  },
  {
   "cell_type": "code",
   "execution_count": 8,
   "metadata": {},
   "outputs": [
    {
     "name": "stdout",
     "output_type": "stream",
     "text": [
      "Vocabularies that we have: \n",
      "\n",
      "['write', 'meaning', 'artificial', 'computer', 'understanding', 'type', 'humans', 'nlp', 'field', 'analyzing', 'deal', 'linguistics', 'semantics', 'human', 'language', 'voice', 'recognition', 'power', 'talk', 'natural', 'computer-driven', 'processing', 'intelligence', 'computational', 'using', 'generating', 'ability', 'powerful', 'syntax', 'programming', 'program']\n"
     ]
    }
   ],
   "source": [
    "filtered_text = list(set(processed_text))\n",
    "print (\"Vocabularies that we have: \\n\")\n",
    "print (filtered_text)"
   ]
  },
  {
   "cell_type": "markdown",
   "metadata": {},
   "source": [
    "### Building Graph"
   ]
  },
  {
   "cell_type": "markdown",
   "metadata": {},
   "source": [
    "Seperti yang sudah dijelaskan di awal bahwa Text Rank erupakan Graph-based model, maka kita perlu membuat graph. Dalam graph, verteks adalah setiap kata yang ada pada vocabulary.\n",
    "\n",
    "Antar kata akan memiliki koneksi jika kata-kata tersebut terjadi bersama dalam 'window' tertentu dari list processed_text."
   ]
  },
  {
   "cell_type": "code",
   "execution_count": 9,
   "metadata": {},
   "outputs": [],
   "source": [
    "import numpy as np\n",
    "import math\n",
    "\n",
    "vocab_len = len(filtered_text)\n",
    "\n",
    "# Matriks yang berisi informasi tentang bobot koneksi antar verteks\n",
    "weighted_edge = np.zeros((vocab_len,vocab_len), dtype = np.float32)\n",
    "\n",
    "# Matriks untuk menyimpan score yang terkait dengan setiap verteks\n",
    "score = np.zeros((vocab_len), dtype = np.float32)\n",
    "\n",
    "# Menetapkan ukuran window (dianjurkan antara 2-10)\n",
    "window_size = 3\n",
    "\n",
    "# List pair of absolute position, ditetapkan agar dua kata sama di posisi yang sama tidak dihitung berulang kali\n",
    "covered_coocurrences = []\n",
    "\n",
    "for i in range(0,vocab_len):\n",
    "    score[i]=1  # Inisiasi score bernilai 1\n",
    "    for j in range(0,vocab_len):\n",
    "        if j==i:\n",
    "            weighted_edge[i][j]=0  # Tidak ada koneksi antar verteks\n",
    "        else:\n",
    "            for window_start in range(0,(len(processed_text)-window_size)):\n",
    "                window_end = window_start+window_size\n",
    "                window = processed_text[window_start:window_end]\n",
    "                \n",
    "                if (filtered_text[i] in window) and (filtered_text[j] in window):\n",
    "                    index_of_i = window_start + window.index(filtered_text[i])  # absolute position indeks i di window\n",
    "                    index_of_j = window_start + window.index(filtered_text[j])  # absolute position indeks j di window\n",
    "                    \n",
    "                    if [index_of_i,index_of_j] not in covered_coocurrences:\n",
    "                        weighted_edge[i][j]+=1/math.fabs(index_of_i-index_of_j)\n",
    "                        covered_coocurrences.append([index_of_i,index_of_j])"
   ]
  },
  {
   "cell_type": "markdown",
   "metadata": {},
   "source": [
    "Menghitung total bobot koneksi yang dimiliki setiap vertex"
   ]
  },
  {
   "cell_type": "code",
   "execution_count": 10,
   "metadata": {},
   "outputs": [],
   "source": [
    "# Akan berisi jumlah koneksi yang dimiliki verteks i\n",
    "inout = np.zeros((vocab_len),dtype=np.float32)\n",
    "\n",
    "for i in range(0,vocab_len):\n",
    "    for j in range(0,vocab_len):\n",
    "        inout[i]+=weighted_edge[i][j]"
   ]
  },
  {
   "cell_type": "markdown",
   "metadata": {},
   "source": [
    "### Scoring Vertices"
   ]
  },
  {
   "cell_type": "markdown",
   "metadata": {},
   "source": [
    "Pada bagian ini kita menerapkan persamaan untuk mencari score yang dimiliki verteks Vi yang telah didefinisikan di awal.\n",
    "\n",
    "Score akan otomatis terupdate hingga konvergen."
   ]
  },
  {
   "cell_type": "code",
   "execution_count": 11,
   "metadata": {},
   "outputs": [
    {
     "name": "stdout",
     "output_type": "stream",
     "text": [
      "Converging at iteration 30\n"
     ]
    }
   ],
   "source": [
    "max_itteration = 50\n",
    "d = 0.85\n",
    "threshold = 0.0001  # Threshold konvergensi\n",
    "\n",
    "for iter in range(0, max_itteration):\n",
    "    prev_score = np.copy(score)\n",
    "    \n",
    "    for i in range(0, vocab_len):\n",
    "        \n",
    "        summation = 0\n",
    "        for j in range(0,vocab_len):\n",
    "            if weighted_edge[i][j] != 0:\n",
    "                summation += (weighted_edge[i][j]/inout[j])*score[j]\n",
    "                \n",
    "        score[i] = (1-d) + d*(summation)\n",
    "    \n",
    "    if np.sum(np.fabs(prev_score-score)) <= threshold:\n",
    "        print(\"Converging at iteration \"+str(iter))\n",
    "        break"
   ]
  },
  {
   "cell_type": "code",
   "execution_count": 12,
   "metadata": {},
   "outputs": [
    {
     "name": "stdout",
     "output_type": "stream",
     "text": [
      "Score of each vaocabulary: \n",
      "\n",
      "write: 0.82520616\n",
      "meaning: 0.8129959\n",
      "artificial: 1.3515391\n",
      "computer: 1.9051017\n",
      "understanding: 1.3495038\n",
      "type: 0.72945595\n",
      "humans: 0.7867813\n",
      "nlp: 0.7153605\n",
      "field: 1.459282\n",
      "analyzing: 0.7453618\n",
      "deal: 0.74256426\n",
      "linguistics: 0.78515744\n",
      "semantics: 0.7880999\n",
      "human: 1.1917291\n",
      "language: 3.1989732\n",
      "voice: 0.8705187\n",
      "recognition: 0.81118476\n",
      "power: 0.7584014\n",
      "talk: 0.81186736\n",
      "natural: 1.4642541\n",
      "computer-driven: 0.67044556\n",
      "processing: 1.2744619\n",
      "intelligence: 1.3415576\n",
      "computational: 0.74705535\n",
      "using: 0.6715671\n",
      "generating: 0.69713557\n",
      "ability: 0.5491263\n",
      "powerful: 0.72964436\n",
      "syntax: 0.7759126\n",
      "programming: 0.71949923\n",
      "program: 0.72048384\n"
     ]
    }
   ],
   "source": [
    "print(\"Score of each vaocabulary: \\n\")\n",
    "for i in range(0,vocab_len):\n",
    "    print(filtered_text[i]+\": \"+str(score[i]))"
   ]
  },
  {
   "cell_type": "markdown",
   "metadata": {},
   "source": [
    "### Generate Keyphrases Candidate "
   ]
  },
  {
   "cell_type": "markdown",
   "metadata": {},
   "source": [
    "Membuat sekumpulan frasa yang akan dijadikan sebagai kandidat keyword"
   ]
  },
  {
   "cell_type": "markdown",
   "metadata": {},
   "source": [
    "##### Phrases Partitioning\n",
    "Phrase partitioning dilakukan di list lemmatized_text menggunakan stopword yang sudah didefinisikan di awal sebagai pembatasnya."
   ]
  },
  {
   "cell_type": "code",
   "execution_count": 13,
   "metadata": {},
   "outputs": [
    {
     "name": "stdout",
     "output_type": "stream",
     "text": [
      "Partitioned Phrases (Candidate Keyphrases): \n",
      "\n",
      "[['natural', 'language', 'processing'], ['nlp'], ['type'], ['artificial', 'intelligence'], ['deal'], ['analyzing'], ['understanding'], ['generating', 'natural', 'human', 'language'], ['computer'], ['human', 'language'], ['using', 'computer-driven', 'language'], ['natural', 'language', 'processing'], ['computational', 'linguistics'], ['semantics'], ['syntax'], ['computer'], ['humans', 'talk'], ['write'], ['meaning'], ['field'], ['power'], ['artificial', 'intelligence'], ['computer', 'programming'], ['understanding'], ['powerful'], ['program'], ['language'], ['field'], ['voice', 'recognition'], ['ability'], ['computer']]\n"
     ]
    }
   ],
   "source": [
    "phrases = []\n",
    "\n",
    "phrase = \" \"\n",
    "for word in lemmatized_text:\n",
    "    \n",
    "    if word in stopwords:\n",
    "        if phrase!= \" \":\n",
    "            phrases.append(str(phrase).strip().split())\n",
    "        phrase = \" \"\n",
    "    elif word not in stopwords:\n",
    "        phrase+=str(word)\n",
    "        phrase+=\" \"\n",
    "\n",
    "print(\"Partitioned Phrases (Candidate Keyphrases): \\n\")\n",
    "print(phrases)"
   ]
  },
  {
   "cell_type": "markdown",
   "metadata": {},
   "source": [
    "##### Unique Phrases\n",
    "Mengeliminasi frasa yang diulang agar semua frasa yang terbentuk unik"
   ]
  },
  {
   "cell_type": "code",
   "execution_count": 14,
   "metadata": {},
   "outputs": [
    {
     "name": "stdout",
     "output_type": "stream",
     "text": [
      "Unique Phrases (Candidate Keyphrases): \n",
      "\n",
      "[['natural', 'language', 'processing'], ['nlp'], ['type'], ['artificial', 'intelligence'], ['deal'], ['analyzing'], ['understanding'], ['generating', 'natural', 'human', 'language'], ['computer'], ['human', 'language'], ['using', 'computer-driven', 'language'], ['computational', 'linguistics'], ['semantics'], ['syntax'], ['humans', 'talk'], ['write'], ['meaning'], ['field'], ['power'], ['computer', 'programming'], ['powerful'], ['program'], ['language'], ['voice', 'recognition'], ['ability']]\n"
     ]
    }
   ],
   "source": [
    "unique_phrases = []\n",
    "\n",
    "for phrase in phrases:\n",
    "    if phrase not in unique_phrases:\n",
    "        unique_phrases.append(phrase)\n",
    "\n",
    "print(\"Unique Phrases (Candidate Keyphrases): \\n\")\n",
    "print(unique_phrases)"
   ]
  },
  {
   "cell_type": "markdown",
   "metadata": {},
   "source": [
    "##### Keyphrases Candidate\n",
    "Menghapus single-word frasa yang juga memiliki multi-word alternatives"
   ]
  },
  {
   "cell_type": "code",
   "execution_count": 15,
   "metadata": {},
   "outputs": [
    {
     "name": "stdout",
     "output_type": "stream",
     "text": [
      "Thinned Unique Phrases (Candidate Keyphrases): \n",
      "\n",
      "[['natural', 'language', 'processing'], ['nlp'], ['type'], ['artificial', 'intelligence'], ['deal'], ['analyzing'], ['understanding'], ['generating', 'natural', 'human', 'language'], ['human', 'language'], ['using', 'computer-driven', 'language'], ['computational', 'linguistics'], ['semantics'], ['syntax'], ['humans', 'talk'], ['write'], ['meaning'], ['field'], ['power'], ['computer', 'programming'], ['powerful'], ['program'], ['voice', 'recognition'], ['ability']]\n"
     ]
    }
   ],
   "source": [
    "for word in filtered_text:\n",
    "    for phrase in unique_phrases:\n",
    "        # Frasa yang terdiri satu kata tetapi secara bersamaan juga terdapat di frasa multi-word unique_phrases sebagai single-word-phrase \n",
    "        if (word in phrase) and ([word] in unique_phrases) and (len(phrase)>1):\n",
    "             unique_phrases.remove([word])\n",
    "            \n",
    "print(\"Thinned Unique Phrases (Candidate Keyphrases): \\n\")\n",
    "print(unique_phrases)"
   ]
  },
  {
   "cell_type": "markdown",
   "metadata": {},
   "source": [
    "### Scoring Keyphrases"
   ]
  },
  {
   "cell_type": "markdown",
   "metadata": {},
   "source": [
    "Scoring frasa dilakukan dengan menambahkan score setiap word yang menyusunnya (score yang sebelumnya sudah dihitung saat melakukan scoring vertices)."
   ]
  },
  {
   "cell_type": "code",
   "execution_count": 16,
   "metadata": {},
   "outputs": [
    {
     "name": "stdout",
     "output_type": "stream",
     "text": [
      "'natural language processing' : 5.937689185142517\n",
      "'nlp' : 0.7153605222702026\n",
      "'type' : 0.7294559478759766\n",
      "'artificial intelligence' : 2.6930967569351196\n",
      "'deal' : 0.7425642609596252\n",
      "'analyzing' : 0.7453618049621582\n",
      "'understanding' : 1.349503755569458\n",
      "'generating natural human language' : 6.552091956138611\n",
      "'human language' : 4.390702247619629\n",
      "'using computer-driven language' : 4.540985822677612\n",
      "'computational linguistics' : 1.5322127938270569\n",
      "'semantics' : 0.7880998849868774\n",
      "'syntax' : 0.7759125828742981\n",
      "'humans talk' : 1.5986486673355103\n",
      "'write' : 0.8252061605453491\n",
      "'meaning' : 0.8129959106445312\n",
      "'field' : 1.4592820405960083\n",
      "'power' : 0.7584013938903809\n",
      "'computer programming' : 2.624600887298584\n",
      "'powerful' : 0.7296443581581116\n",
      "'program' : 0.7204838395118713\n",
      "'voice recognition' : 1.6817034482955933\n",
      "'ability' : 0.5491263270378113\n"
     ]
    }
   ],
   "source": [
    "phrase_scores = []\n",
    "keywords = []\n",
    "for phrase in unique_phrases:\n",
    "    phrase_score=0\n",
    "    keyword = ''\n",
    "    for word in phrase:\n",
    "        keyword += str(word)\n",
    "        keyword += \" \"\n",
    "        phrase_score+=score[filtered_text.index(word)]\n",
    "    phrase_scores.append(phrase_score)\n",
    "    keywords.append(keyword.strip())\n",
    "\n",
    "i=0\n",
    "for keyword in keywords:\n",
    "    print (\"'\"+str(keyword)+\"' : \"+str(phrase_scores[i]))\n",
    "    i+=1"
   ]
  },
  {
   "cell_type": "markdown",
   "metadata": {},
   "source": [
    "### Ranking Keyphrases"
   ]
  },
  {
   "cell_type": "markdown",
   "metadata": {},
   "source": [
    "Mengurutkan Keyphrases dari score yang paling tinggi ke paling rendah untuk ditampilkan sebagai hasil ekstraksi keyword"
   ]
  },
  {
   "cell_type": "code",
   "execution_count": 17,
   "metadata": {
    "scrolled": false
   },
   "outputs": [
    {
     "name": "stdout",
     "output_type": "stream",
     "text": [
      "Keywords:\n",
      "\n",
      "1. generating natural human language\n",
      "2. natural language processing\n",
      "3. using computer-driven language\n",
      "4. human language\n",
      "5. artificial intelligence\n",
      "6. computer programming\n",
      "7. voice recognition\n",
      "8. humans talk\n",
      "9. computational linguistics\n",
      "10. field\n"
     ]
    }
   ],
   "source": [
    "sorted_index = np.flip(np.argsort(phrase_scores),0)\n",
    "\n",
    "max_keywords = 10\n",
    "\n",
    "print(\"Keywords:\\n\")\n",
    "\n",
    "for i in range(0, max_keywords):\n",
    "    print(\"{}. \".format(i+1) + str(keywords[sorted_index[i]]))"
   ]
  },
  {
   "cell_type": "markdown",
   "metadata": {},
   "source": []
  },
  {
   "cell_type": "markdown",
   "metadata": {},
   "source": [
    " "
   ]
  }
 ],
 "metadata": {
  "kernelspec": {
   "display_name": "Python 3",
   "language": "python",
   "name": "python3"
  },
  "language_info": {
   "codemirror_mode": {
    "name": "ipython",
    "version": 3
   },
   "file_extension": ".py",
   "mimetype": "text/x-python",
   "name": "python",
   "nbconvert_exporter": "python",
   "pygments_lexer": "ipython3",
   "version": "3.8.5"
  }
 },
 "nbformat": 4,
 "nbformat_minor": 4
}
